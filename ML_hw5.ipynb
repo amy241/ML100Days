{
 "cells": [
  {
   "cell_type": "code",
   "execution_count": 1,
   "metadata": {},
   "outputs": [],
   "source": [
    "import numpy as np\n",
    "english_score = np.array([55,89,76,65,48,70])\n",
    "math_score = np.array([60,85,60,68,np.nan,60])\n",
    "chinese_score = np.array([65,90,82,72,66,77])"
   ]
  },
  {
   "cell_type": "markdown",
   "metadata": {},
   "source": [
    "上 3 列共六位同學的英文、數學、國文成績，第一個元素代表第一位同學，舉例第一位同學英文 55 分、數學 60 分、國文 65 分，今天第五位同學因某原因沒來考試，導致數學成績缺值，運用上列數據回答下列問題。\n",
    "\n",
    "#1 請計算各科成績平均、最大值、最小值、標準差，其中數學缺一筆資料可忽略？"
   ]
  },
  {
   "cell_type": "code",
   "execution_count": 3,
   "metadata": {},
   "outputs": [
    {
     "name": "stdout",
     "output_type": "stream",
     "text": [
      "英文平均為67.16666666666667\n",
      "英文最大值為89\n",
      "英文最小值為48\n",
      "英文標準差為13.433995020924426\n",
      "\n",
      "數學平均為66.6\n",
      "數學最大值為85.0\n",
      "數學最小值為60.0\n",
      "數學標準差為9.707728879609279\n",
      "\n",
      "國文平均為75.33333333333333\n",
      "國文最大值為90\n",
      "國文最小值為65\n",
      "國文標準差為8.825468196582484\n"
     ]
    }
   ],
   "source": [
    "print('英文平均為' + str(np.nanmean(english_score)))\n",
    "print('英文最大值為' + str(np.nanmax(english_score)))\n",
    "print('英文最小值為' + str(np.nanmin(english_score)))\n",
    "print('英文標準差為' + str(np.nanstd(english_score)) + '\\n')\n",
    "print('數學平均為' + str(np.nanmean(math_score)))\n",
    "print('數學最大值為' + str(np.nanmax(math_score)))\n",
    "print('數學最小值為' + str(np.nanmin(math_score)))\n",
    "print('數學標準差為' + str(np.nanstd(math_score)) + '\\n')\n",
    "print('國文平均為' + str(np.nanmean(chinese_score)))\n",
    "print('國文最大值為' + str(np.nanmax(chinese_score)))\n",
    "print('國文最小值為' + str(np.nanmin(chinese_score)))\n",
    "print('國文標準差為' + str(np.nanstd(chinese_score)))"
   ]
  },
  {
   "cell_type": "markdown",
   "metadata": {},
   "source": [
    "#2 第五位同學補考數學後成績為 55，請計算補考後數學成績平均、最大值、最小值、標準差？"
   ]
  },
  {
   "cell_type": "code",
   "execution_count": 7,
   "metadata": {},
   "outputs": [
    {
     "name": "stdout",
     "output_type": "stream",
     "text": [
      "數學平均為64.66666666666667\n",
      "數學最大值為85.0\n",
      "數學最小值為55.0\n",
      "數學標準差為9.860132971832694\n",
      "\n"
     ]
    }
   ],
   "source": [
    "math_score[4] = 55\n",
    "print('數學平均為' + str(np.mean(math_score)))\n",
    "print('數學最大值為' + str(np.max(math_score)))\n",
    "print('數學最小值為' + str(np.min(math_score)))\n",
    "print('數學標準差為' + str(np.std(math_score)) + '\\n')"
   ]
  },
  {
   "cell_type": "markdown",
   "metadata": {},
   "source": [
    "#3 用補考後資料找出與國文成績相關係數最高的學科？"
   ]
  },
  {
   "cell_type": "code",
   "execution_count": 14,
   "metadata": {},
   "outputs": [
    {
     "name": "stdout",
     "output_type": "stream",
     "text": [
      "英文與國文相關係數較高\n"
     ]
    }
   ],
   "source": [
    "if np.corrcoef(chinese_score, english_score)[1][0] > np.corrcoef(chinese_score, math_score)[1][0]:\n",
    "    print('英文與國文相關係數較高')\n",
    "else:\n",
    "    print('數學與國文相關係數較高')"
   ]
  }
 ],
 "metadata": {
  "kernelspec": {
   "display_name": "Python 3",
   "language": "python",
   "name": "python3"
  },
  "language_info": {
   "codemirror_mode": {
    "name": "ipython",
    "version": 3
   },
   "file_extension": ".py",
   "mimetype": "text/x-python",
   "name": "python",
   "nbconvert_exporter": "python",
   "pygments_lexer": "ipython3",
   "version": "3.8.5"
  }
 },
 "nbformat": 4,
 "nbformat_minor": 4
}
